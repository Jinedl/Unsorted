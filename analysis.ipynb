{
 "cells": [
  {
   "cell_type": "markdown",
   "id": "8b74c368-d322-47f8-9c6b-7d72d28ddb26",
   "metadata": {
    "jp-MarkdownHeadingCollapsed": true,
    "tags": []
   },
   "source": [
    "## "
   ]
  },
  {
   "cell_type": "code",
   "execution_count": 2,
   "id": "71dbcffa-5c4a-41c3-943e-3584d6c7dfa0",
   "metadata": {
    "tags": []
   },
   "outputs": [],
   "source": [
    "import numpy as np\n",
    "import pandas as pd\n",
    "import matplotlib.pyplot as plt\n",
    "import seaborn as sns\n",
    "from tqdm.auto import tqdm\n",
    "import os\n",
    "import xlsxwriter\n",
    "from PIL import Image\n",
    "\n",
    "pd.set_option('display.float_format', lambda x: '%.1f' % x)\n",
    "pd.set_option('display.max_columns', 300)\n",
    "pd.set_option('display.max_rows', 300)"
   ]
  },
  {
   "cell_type": "markdown",
   "id": "b26d3e4c-c983-4dc1-ac41-047a3d50b183",
   "metadata": {
    "jp-MarkdownHeadingCollapsed": true,
    "tags": []
   },
   "source": [
    "## Data"
   ]
  },
  {
   "cell_type": "code",
   "execution_count": null,
   "id": "70e4cbd6-8030-4b1f-9336-54610284e6d3",
   "metadata": {},
   "outputs": [],
   "source": [
    "fname = '.xlsx'"
   ]
  },
  {
   "cell_type": "code",
   "execution_count": 3,
   "id": "285f7b04-b1fd-4957-97e2-27c55ae52241",
   "metadata": {},
   "outputs": [],
   "source": [
    "df = pd.read_excel(fname)"
   ]
  },
  {
   "cell_type": "code",
   "execution_count": 4,
   "id": "83c4a901-00c7-45f2-aafc-0d18d5c4b986",
   "metadata": {},
   "outputs": [
    {
     "data": {
      "text/html": [
       "<div>\n",
       "<style scoped>\n",
       "    .dataframe tbody tr th:only-of-type {\n",
       "        vertical-align: middle;\n",
       "    }\n",
       "\n",
       "    .dataframe tbody tr th {\n",
       "        vertical-align: top;\n",
       "    }\n",
       "\n",
       "    .dataframe thead th {\n",
       "        text-align: right;\n",
       "    }\n",
       "</style>\n",
       "<table border=\"1\" class=\"dataframe\">\n",
       "  <thead>\n",
       "    <tr style=\"text-align: right;\">\n",
       "      <th></th>\n",
       "      <th>wine_id</th>\n",
       "      <th>merchant_name</th>\n",
       "      <th>price</th>\n",
       "      <th>price_avg</th>\n",
       "      <th>url</th>\n",
       "      <th>wine_name</th>\n",
       "      <th>wine_type_id</th>\n",
       "      <th>region</th>\n",
       "      <th>country</th>\n",
       "      <th>winery</th>\n",
       "      <th>region_style</th>\n",
       "      <th>style_body</th>\n",
       "      <th>acidity</th>\n",
       "      <th>grape_1</th>\n",
       "      <th>grape_2</th>\n",
       "      <th>grape_3</th>\n",
       "      <th>ratings_count_wine</th>\n",
       "      <th>ratings_average_wine</th>\n",
       "      <th>is_natural</th>\n",
       "      <th>image_vivino</th>\n",
       "      <th>critics_score_avg</th>\n",
       "      <th>style</th>\n",
       "      <th>score</th>\n",
       "      <th>vivino_link</th>\n",
       "      <th>winery_wines_count</th>\n",
       "      <th>winery_ratings_sum</th>\n",
       "    </tr>\n",
       "  </thead>\n",
       "  <tbody>\n",
       "    <tr>\n",
       "      <th>0</th>\n",
       "      <td>1536432</td>\n",
       "      <td>balticxl.lt</td>\n",
       "      <td>10.0</td>\n",
       "      <td>11.0</td>\n",
       "      <td>https://www.balticxl.lt/khareba-kindzmarauli</td>\n",
       "      <td>Kindzmarauli (ქინძმარაული) Semi-Sweet Red</td>\n",
       "      <td>Red</td>\n",
       "      <td>Kindzmarauli</td>\n",
       "      <td>Georgia</td>\n",
       "      <td>Khareba</td>\n",
       "      <td>NaN</td>\n",
       "      <td>NaN</td>\n",
       "      <td>NaN</td>\n",
       "      <td>NaN</td>\n",
       "      <td>NaN</td>\n",
       "      <td>NaN</td>\n",
       "      <td>2247</td>\n",
       "      <td>4.4</td>\n",
       "      <td>NaN</td>\n",
       "      <td>//images.vivino.com/thumbs/0HWfewO1QEao_Gc-qnW...</td>\n",
       "      <td>NaN</td>\n",
       "      <td>Fruity Red</td>\n",
       "      <td>0.9</td>\n",
       "      <td>https://www.vivino.com/w/1536432</td>\n",
       "      <td>53</td>\n",
       "      <td>22844</td>\n",
       "    </tr>\n",
       "  </tbody>\n",
       "</table>\n",
       "</div>"
      ],
      "text/plain": [
       "   wine_id merchant_name  price  price_avg  \\\n",
       "0  1536432   balticxl.lt   10.0       11.0   \n",
       "\n",
       "                                            url  \\\n",
       "0  https://www.balticxl.lt/khareba-kindzmarauli   \n",
       "\n",
       "                                   wine_name wine_type_id        region  \\\n",
       "0  Kindzmarauli (ქინძმარაული) Semi-Sweet Red          Red  Kindzmarauli   \n",
       "\n",
       "   country   winery region_style  style_body  acidity grape_1 grape_2 grape_3  \\\n",
       "0  Georgia  Khareba          NaN         NaN      NaN     NaN     NaN     NaN   \n",
       "\n",
       "   ratings_count_wine  ratings_average_wine  is_natural  \\\n",
       "0                2247                   4.4         NaN   \n",
       "\n",
       "                                        image_vivino  critics_score_avg  \\\n",
       "0  //images.vivino.com/thumbs/0HWfewO1QEao_Gc-qnW...                NaN   \n",
       "\n",
       "        style  score                       vivino_link  winery_wines_count  \\\n",
       "0  Fruity Red    0.9  https://www.vivino.com/w/1536432                  53   \n",
       "\n",
       "   winery_ratings_sum  \n",
       "0               22844  "
      ]
     },
     "execution_count": 4,
     "metadata": {},
     "output_type": "execute_result"
    }
   ],
   "source": [
    "df.head(1)"
   ]
  },
  {
   "cell_type": "markdown",
   "id": "57f14ea9-0a31-458b-ba55-ca417d24db3e",
   "metadata": {
    "jp-MarkdownHeadingCollapsed": true,
    "tags": []
   },
   "source": [
    "## Preprocessing"
   ]
  },
  {
   "cell_type": "markdown",
   "id": "5f4a73e0-9d6c-4fbc-a380-507f19abce8e",
   "metadata": {},
   "source": [
    "### Functions"
   ]
  },
  {
   "cell_type": "code",
   "execution_count": 9,
   "id": "be286c0a-5da6-465b-a532-c06a97240756",
   "metadata": {},
   "outputs": [
    {
     "name": "stdout",
     "output_type": "stream",
     "text": [
      "False    3435\n",
      "True      119\n",
      "Name: wine_id, dtype: int64\n"
     ]
    }
   ],
   "source": [
    "region_count = df.groupby('region')['wine_id'].count()\n",
    "region_count = region_count.map(lambda x: x>2000)\n",
    "region_count = dict(region_count)\n",
    "df['region_big'] = [r if region_count[r] else c+'_other'\n",
    "                         for r,c in df[['region','country']].values]"
   ]
  },
  {
   "cell_type": "code",
   "execution_count": 13,
   "id": "14bdd7d6-3296-40d6-924a-aea4aa29251a",
   "metadata": {},
   "outputs": [],
   "source": [
    "def get_price_group_l1(x):\n",
    "    if x<=7:\n",
    "        return '0-7.0' \n",
    "    \n",
    "    elif (x>7)and(x<=10):\n",
    "        return '7.0-10.0'\n",
    "    \n",
    "    elif (x>10)and(x<=13.25):\n",
    "        return '10.0-13.25'\n",
    "    \n",
    "    elif (x>13.25)and(x<=17.34):\n",
    "        return '13.25-17.34'\n",
    "    \n",
    "    elif (x>17.34)and(x<=24.05):\n",
    "        return '17.34-24.05'\n",
    "    \n",
    "    elif (x>24.05)and(x<=40.8):\n",
    "        return '24.05-40.8'\n",
    "    \n",
    "    elif (x>40.8)and(x<=151.01):\n",
    "        return '40.8-151.01'\n",
    "\n",
    "df['price_group_l1'] = df['price_avg'].apply(lambda x: get_price_group_l1(x))"
   ]
  },
  {
   "cell_type": "code",
   "execution_count": 14,
   "id": "da256fd2-b99c-4135-817c-bc440275a359",
   "metadata": {},
   "outputs": [],
   "source": [
    "def get_price_group_l2(x):\n",
    "    if x<=7:\n",
    "        return '0-07' \n",
    "    \n",
    "    elif (x>7)and(x<=10):\n",
    "        return '07-10'\n",
    "    \n",
    "    elif (x>10)and(x<=15):\n",
    "        return '10-15'\n",
    "    \n",
    "    elif (x>15)and(x<=20):\n",
    "        return '15-20'\n",
    "    \n",
    "    elif (x>20)and(x<=25):\n",
    "        return '20-25'\n",
    "    \n",
    "    elif (x>25)and(x<=40):\n",
    "        return '25-40'\n",
    "    else:\n",
    "        return '40+'\n",
    "\n",
    "df['price_group_l2'] = df['price'].apply(lambda x: get_price_group_l2(x))"
   ]
  },
  {
   "cell_type": "markdown",
   "id": "93d854b1-d826-4185-8b5a-240d95a1ee1b",
   "metadata": {
    "tags": []
   },
   "source": [
    "### Process"
   ]
  },
  {
   "cell_type": "code",
   "execution_count": 15,
   "id": "f333666d-1a21-43d9-9003-c85c5a9b8d58",
   "metadata": {},
   "outputs": [],
   "source": [
    "df"
   ]
  },
  {
   "cell_type": "markdown",
   "id": "ff4e6e25-6a9e-46ad-b2ab-aa11692a717c",
   "metadata": {
    "jp-MarkdownHeadingCollapsed": true,
    "tags": []
   },
   "source": [
    "## Functions"
   ]
  },
  {
   "cell_type": "markdown",
   "id": "212e2301-1791-4e88-a736-442929dc156b",
   "metadata": {
    "jp-MarkdownHeadingCollapsed": true,
    "tags": []
   },
   "source": [
    "### Script"
   ]
  },
  {
   "cell_type": "code",
   "execution_count": 45,
   "id": "d20c4ea7-0206-4233-aadb-d55f48afdf4a",
   "metadata": {},
   "outputs": [],
   "source": [
    "def func_param_plot(workbook, sheet, offset,\n",
    "                    crosstab=None,\n",
    "                    df=None, context=None, research=None, funcs=None,\n",
    "                    path_plot='', title_plot=None, width=8, height=3, x_rotation=0, y_rotation=0,\n",
    "                    title_sheet=None, show=True, photo_num=''):\n",
    "    \n",
    "    if crosstab is None:\n",
    "        if type(context) is str:\n",
    "            crosstab = df.groupby(context, sort=True)[research].agg(funcs).T\n",
    "        elif type(context) is list:\n",
    "            crosstab = pd.crosstab(df[context[0]], df[context[1]], df[research], aggfunc=funcs).sort_index()\n",
    "    \n",
    "    #высота в клетках height*5.25\n",
    "    #длина в клетках width*1.25\n",
    "    plt.rcParams[\"figure.figsize\"] = (width, height)\n",
    "\n",
    "    for i in crosstab.index:\n",
    "        ct = crosstab.copy()\n",
    "        for ii in crosstab.index:\n",
    "            if ii != i:\n",
    "                ct.loc[ii] = float('nan')\n",
    "        if type(ct.loc[i, crosstab.columns[1]]) is int:\n",
    "            fmt='.0f'\n",
    "        else:\n",
    "            fmt='.1f'\n",
    "        sns.heatmap(ct, annot=True, cbar=False, fmt=fmt, cmap=plt.cm.get_cmap('Blues'))\n",
    "\n",
    "    if title_plot:\n",
    "        plt.title(title_plot)\n",
    "\n",
    "    plt.yticks(rotation=y_rotation)\n",
    "    plt.xticks(rotation=x_rotation)\n",
    "    \n",
    "    plotpath = os.path.join(path_plot, sheet+photo_num+'.png')\n",
    "    plt.savefig(plotpath, bbox_inches='tight')\n",
    "    \n",
    "    if show:\n",
    "        plt.show()\n",
    "    \n",
    "    worksheet = workbook.get_worksheet_by_name(sheet)\n",
    "    if worksheet is None:\n",
    "        worksheet = workbook.add_worksheet(name=sheet)\n",
    "    \n",
    "    if title_sheet:\n",
    "        worksheet.write(offset, 0, title_sheet)\n",
    "        offset += 3\n",
    "    \n",
    "    worksheet.insert_image(offset, 0, plotpath)\n",
    "    im = Image.open(plotpath)\n",
    "    width, height = im.size\n",
    "    offset += round(height / 21 + 1) + 1\n",
    "    \n",
    "    return offset+1"
   ]
  },
  {
   "cell_type": "code",
   "execution_count": 20,
   "id": "7e3f1e9f-9f1e-47a7-9ec6-50de24f079e8",
   "metadata": {},
   "outputs": [],
   "source": [
    "def func_param_examples(df, context, research, funcs,\n",
    "                          workbook, sheet, offset,\n",
    "                          top=5, show=True):\n",
    "    \n",
    "    if type(context) is str:\n",
    "        context = [None, context]\n",
    "    \n",
    "    worksheet = workbook.get_worksheet_by_name(sheet)\n",
    "    if worksheet is None:\n",
    "        worksheet = workbook.add_worksheet(name=sheet)\n",
    "        \n",
    "    for c1 in np.sort(df[context[0]].unique()) if context[0] is not None else ['']:\n",
    "        \n",
    "        if context[0] is not None:\n",
    "            df_tmp1 = df[df[context[0]] == c1].copy()\n",
    "        else:\n",
    "            df_tmp1 = df.copy()\n",
    "        \n",
    "        for c2 in np.sort(df[context[1]].unique()):\n",
    "            \n",
    "            df_tmp2 = df_tmp1[df_tmp1[context[1]] == c2].copy()\n",
    "\n",
    "            worksheet.write(offset, 0, c1+' '+c2)\n",
    "            offset += 1\n",
    "\n",
    "            if df_tmp2.shape[0] == 0:\n",
    "                \n",
    "                worksheet.write(offset, 0, 'There is no wines in '+c1+' '+c2)\n",
    "                offset += 2\n",
    "                \n",
    "            else:\n",
    "                  \n",
    "                for f in funcs:\n",
    "\n",
    "                    if f == 'min':\n",
    "                        df_tmp3 = df_tmp2.sort_values(research, ascending=True).head(top)\n",
    "                    elif f == 'max':\n",
    "                        df_tmp3 = df_tmp2.sort_values(research, ascending=False).head(top)\n",
    "                        \n",
    "                    worksheet.write(offset, 0, 'Examples. '+f+' '+research+' in '+c1+' '+c2)\n",
    "                    offset += 1\n",
    "                    \n",
    "                    if show:\n",
    "                        display(df_tmp3)\n",
    "                    offset = write_df_to_excel(df_tmp3, worksheet, offset, 0, with_index=False)\n",
    "    \n",
    "    return offset+1"
   ]
  },
  {
   "cell_type": "code",
   "execution_count": 21,
   "id": "229c52eb-f958-4790-b3af-bbd58cae7cf9",
   "metadata": {
    "tags": []
   },
   "outputs": [],
   "source": [
    "def write_df_to_excel(df, worksheet, startrow, startcol, with_index=False):\n",
    "\n",
    "    if with_index:\n",
    "        df = df.reset_index()\n",
    "\n",
    "    df_cols = df.columns.tolist()\n",
    "    row = startrow\n",
    "    col = startcol\n",
    "    for c in df_cols:\n",
    "        worksheet.write(row, col, c)\n",
    "        col = col + 1\n",
    "\n",
    "    df_list = []\n",
    "    for i in range(df.shape[0]):\n",
    "        df_list.append(df.iloc[i].tolist())\n",
    "\n",
    "    row = row + 1\n",
    "    for r in df_list:\n",
    "        col = startcol\n",
    "\n",
    "        for rr in r:\n",
    "            worksheet.write(row, col, str(rr))\n",
    "            col = col + 1\n",
    "        row = row + 1\n",
    "    \n",
    "    return row+1"
   ]
  },
  {
   "cell_type": "markdown",
   "id": "7fcca67b-ea14-4c22-9202-52ccab0d3f1c",
   "metadata": {
    "jp-MarkdownHeadingCollapsed": true,
    "tags": []
   },
   "source": [
    "### Examples"
   ]
  },
  {
   "cell_type": "code",
   "execution_count": 55,
   "id": "e205627a-95ba-4252-8ac5-888a86fdbdf9",
   "metadata": {},
   "outputs": [
    {
     "data": {
      "image/png": "[encoded data removed]",
      "text/plain": [
       "<Figure size 2800x200 with 1 Axes>"
      ]
     },
     "metadata": {},
     "output_type": "display_data"
    },
    {
     "data": {
      "text/plain": [
       "37"
      ]
     },
     "execution_count": 55,
     "metadata": {},
     "output_type": "execute_result"
    }
   ],
   "source": [
    "df_c = df[df['country'].isin(pop_country)].copy()\n",
    "func_param_plot(crosstab=pd.crosstab(df_c['country'], df_c['merchant'], df_c['wine_id'],\n",
    "                                     aggfunc='count').sort_values(by='vinotheques', ascending=False).T,\n",
    "                workbook=workbook, sheet='Country', offset=offset,\n",
    "                width=28, height=2, x_rotation=60, y_rotation=0,\n",
    "                path_plot='plots', title_plot=\"Wine's countries in supermarkets and vinotheques of Lithuania\",\n",
    "                show=True, photo_num='2')"
   ]
  },
  {
   "cell_type": "code",
   "execution_count": 56,
   "id": "dbe03b3b-7154-46dc-9178-41caea4a979c",
   "metadata": {},
   "outputs": [
    {
     "data": {
      "image/png": "[encoded data removed]",
      "text/plain": [
       "<Figure size 800x100 with 1 Axes>"
      ]
     },
     "metadata": {},
     "output_type": "display_data"
    }
   ],
   "source": [
    "offset = func_param_plot(df=df, context='price_group_l2', research='wine_id', funcs=['count'],\n",
    "                         workbook=workbook, sheet='Price', offset=0,\n",
    "                         width=8, height=1, x_rotation=60, y_rotation=0,\n",
    "                         path_plot='plots', title_plot='Prices in Lithuania',\n",
    "                         title_sheet='Распределение вин по ценам',\n",
    "                         show=True, photo_num='1')"
   ]
  },
  {
   "cell_type": "code",
   "execution_count": 26,
   "id": "c7e17aab-7708-48ad-9d75-a93ef2178089",
   "metadata": {},
   "outputs": [
    {
     "data": {
      "text/plain": [
       "141"
      ]
     },
     "execution_count": 26,
     "metadata": {},
     "output_type": "execute_result"
    }
   ],
   "source": [
    "func_param_examples(df, context='price_group_l2', research='score', funcs=['min','max'],\n",
    "                             workbook=workbook, sheet='1', offset=offset,\n",
    "                             top=5, show=False)"
   ]
  },
  {
   "cell_type": "code",
   "execution_count": 28,
   "id": "22ff8a5a-1500-4b93-a8ba-ad4a1e73a032",
   "metadata": {},
   "outputs": [
    {
     "data": {
      "text/plain": [
       "6849"
      ]
     },
     "execution_count": 28,
     "metadata": {},
     "output_type": "execute_result"
    }
   ],
   "source": [
    "func_param_examples(df, context=['price_group_l2', 'region_big'], research='score', funcs=['min','max'],\n",
    "                             workbook=workbook, sheet='2', offset=offset,\n",
    "                             top=5, show=False)"
   ]
  },
  {
   "cell_type": "markdown",
   "id": "1bea2f21-2e97-47d2-aed8-633d3c0e279e",
   "metadata": {
    "jp-MarkdownHeadingCollapsed": true,
    "tags": []
   },
   "source": [
    "## Hypothesis checking"
   ]
  },
  {
   "cell_type": "code",
   "execution_count": 22,
   "id": "0700449a-4e21-4e3e-9456-d3ce87bbc6be",
   "metadata": {},
   "outputs": [
    {
     "data": {
      "text/html": [
       "<div>\n",
       "<style scoped>\n",
       "    .dataframe tbody tr th:only-of-type {\n",
       "        vertical-align: middle;\n",
       "    }\n",
       "\n",
       "    .dataframe tbody tr th {\n",
       "        vertical-align: top;\n",
       "    }\n",
       "\n",
       "    .dataframe thead th {\n",
       "        text-align: right;\n",
       "    }\n",
       "</style>\n",
       "<table border=\"1\" class=\"dataframe\">\n",
       "  <thead>\n",
       "    <tr style=\"text-align: right;\">\n",
       "      <th></th>\n",
       "      <th>wine_id</th>\n",
       "      <th>merchant_name</th>\n",
       "      <th>price</th>\n",
       "      <th>price_avg</th>\n",
       "      <th>url</th>\n",
       "      <th>wine_name</th>\n",
       "      <th>wine_type_id</th>\n",
       "      <th>region</th>\n",
       "      <th>country</th>\n",
       "      <th>winery</th>\n",
       "      <th>style_name</th>\n",
       "      <th>style_body</th>\n",
       "      <th>acidity</th>\n",
       "      <th>grape_1</th>\n",
       "      <th>grape_2</th>\n",
       "      <th>grape_3</th>\n",
       "      <th>ratings_count_wine</th>\n",
       "      <th>ratings_average_wine</th>\n",
       "      <th>is_natural</th>\n",
       "      <th>critics_score_avg</th>\n",
       "      <th>style</th>\n",
       "      <th>score</th>\n",
       "      <th>region_big</th>\n",
       "      <th>price_group_l1</th>\n",
       "      <th>price_group_l2</th>\n",
       "      <th>score_group</th>\n",
       "    </tr>\n",
       "  </thead>\n",
       "  <tbody>\n",
       "    <tr>\n",
       "      <th>0</th>\n",
       "      <td>4291453</td>\n",
       "      <td>Iki</td>\n",
       "      <td>27.9</td>\n",
       "      <td>22.5</td>\n",
       "      <td>https://iki.lt/alkoholiniai-gerimai/varvaglion...</td>\n",
       "      <td>Cosimo Varvaglione Collezione Privata Primitiv...</td>\n",
       "      <td>Red</td>\n",
       "      <td>Primitivo di Manduria</td>\n",
       "      <td>Italy</td>\n",
       "      <td>Varvaglione</td>\n",
       "      <td>Southern Italy Primitivo</td>\n",
       "      <td>4.0</td>\n",
       "      <td>3.0</td>\n",
       "      <td>Primitivo</td>\n",
       "      <td>NaN</td>\n",
       "      <td>NaN</td>\n",
       "      <td>4440</td>\n",
       "      <td>4.5</td>\n",
       "      <td>NaN</td>\n",
       "      <td>NaN</td>\n",
       "      <td>Smooth Red</td>\n",
       "      <td>9.1</td>\n",
       "      <td>Italy_other</td>\n",
       "      <td>17.34-24.05</td>\n",
       "      <td>25-40</td>\n",
       "      <td>9.0-9.5</td>\n",
       "    </tr>\n",
       "  </tbody>\n",
       "</table>\n",
       "</div>"
      ],
      "text/plain": [
       "   wine_id merchant_name  price  price_avg  \\\n",
       "0  4291453           Iki   27.9       22.5   \n",
       "\n",
       "                                                 url  \\\n",
       "0  https://iki.lt/alkoholiniai-gerimai/varvaglion...   \n",
       "\n",
       "                                           wine_name wine_type_id  \\\n",
       "0  Cosimo Varvaglione Collezione Privata Primitiv...          Red   \n",
       "\n",
       "                  region country       winery                style_name  \\\n",
       "0  Primitivo di Manduria   Italy  Varvaglione  Southern Italy Primitivo   \n",
       "\n",
       "   style_body  acidity    grape_1 grape_2 grape_3  ratings_count_wine  \\\n",
       "0         4.0      3.0  Primitivo     NaN     NaN                4440   \n",
       "\n",
       "   ratings_average_wine  is_natural  critics_score_avg       style  score  \\\n",
       "0                   4.5         NaN                NaN  Smooth Red    9.1   \n",
       "\n",
       "    region_big price_group_l1 price_group_l2 score_group  \n",
       "0  Italy_other    17.34-24.05          25-40     9.0-9.5  "
      ]
     },
     "execution_count": 22,
     "metadata": {},
     "output_type": "execute_result"
    }
   ],
   "source": [
    "df.head(1)"
   ]
  },
  {
   "cell_type": "code",
   "execution_count": 23,
   "id": "4b49da5d-b6ee-4d27-b295-f0f8ad88c63e",
   "metadata": {},
   "outputs": [],
   "source": [
    "file='.xlsx'; path='data'\n",
    "xlfilepath = os.path.join(path, file)\n",
    "workbook = xlsxwriter.Workbook(xlfilepath)"
   ]
  },
  {
   "cell_type": "markdown",
   "id": "62efc821-61a3-4e45-92c5-d78936e71bb3",
   "metadata": {
    "jp-MarkdownHeadingCollapsed": true,
    "tags": []
   },
   "source": [
    "##"
   ]
  },
  {
   "cell_type": "code",
   "execution_count": 58,
   "id": "4103e416-4d93-47a8-bcc8-b5627d94189a",
   "metadata": {},
   "outputs": [],
   "source": [
    "workbook.close()"
   ]
  }
 ],
 "metadata": {
  "kernelspec": {
   "display_name": "Python 3 (ipykernel)",
   "language": "python",
   "name": "python3"
  },
  "language_info": {
   "codemirror_mode": {
    "name": "ipython",
    "version": 3
   },
   "file_extension": ".py",
   "mimetype": "text/x-python",
   "name": "python",
   "nbconvert_exporter": "python",
   "pygments_lexer": "ipython3",
   "version": "3.10.6"
  }
 },
 "nbformat": 4,
 "nbformat_minor": 5
}
