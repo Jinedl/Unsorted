{
 "cells": [
  {
   "cell_type": "markdown",
   "id": "8de50111-b355-4f6a-8b1d-16c321f1abba",
   "metadata": {
    "tags": []
   },
   "source": [
    "# Инфраструктура для мэтчинга"
   ]
  },
  {
   "cell_type": "code",
   "execution_count": 1,
   "id": "58b82fa8-1255-484c-8881-28d2a8dafb09",
   "metadata": {
    "tags": []
   },
   "outputs": [],
   "source": [
    "import numpy as np\n",
    "import pandas as pd\n",
    "from scipy.signal import find_peaks\n",
    "\n",
    "import os\n",
    "import shutil\n",
    "import requests\n",
    "import uuid\n",
    "import urllib\n",
    "import urllib.request\n",
    "import httplib2\n",
    "\n",
    "import xlsxwriter\n",
    "\n",
    "from PIL import Image\n",
    "import cv2\n",
    "\n",
    "from tqdm.auto import tqdm\n",
    "import time\n",
    "import random"
   ]
  },
  {
   "cell_type": "markdown",
   "id": "b310385a-363c-49b5-9082-3e0f7430f4fb",
   "metadata": {
    "jp-MarkdownHeadingCollapsed": true,
    "tags": []
   },
   "source": [
    "## Обработка картинок"
   ]
  },
  {
   "cell_type": "raw",
   "id": "8d1b26bb-4ad0-422b-836a-97cca022cea2",
   "metadata": {},
   "source": [
    "background2any() - функция для приведение цвета почти однородного фона к любому цвету\n",
    "\n",
    "Параметры:\n",
    "fname - string - путь к файлу изображения\n",
    "new - 4-dim int tuple - новый цвет фона (если string 'old', то будет старый однородный фон), по умолчанию прозрачный\n",
    "old - 4-dim int tuple - старый цвет фона, по умолчанию берётся из крайнего правого верхнего пикселя\n",
    "delete - bool - удаление исходнго файла, по умолчанию нет\n",
    "new_fname - string - новое имя файла, по умолчанию исходное, оканчивающиеся на \"_b2a\"\n",
    "\n",
    "Создаёт изменённое изображение в формате \".PNG\" с новым названием"
   ]
  },
  {
   "cell_type": "code",
   "execution_count": 2,
   "id": "b2479a7e-d0db-41e1-ad75-35f800843716",
   "metadata": {},
   "outputs": [],
   "source": [
    "def background2any(fname, new=(0, 0, 0, 0), old=None, delete=False, new_fname=None):\n",
    "    \n",
    "    img = Image.open(f'{fname}').convert(\"RGBA\")\n",
    "    if delete:\n",
    "        os.remove(fname)\n",
    "\n",
    "    size = img.size\n",
    "    pics = list(img.getdata())\n",
    "    \n",
    "    if old is None:\n",
    "        old = pics[0]\n",
    "    \n",
    "    if new == 'old':\n",
    "        new = old\n",
    "    \n",
    "    def is_old(p, c):\n",
    "        for a, b in zip(p, c):\n",
    "            if not (-7 <= a-b <= 7):###############################\n",
    "                return False\n",
    "        return True\n",
    "    \n",
    "    new_img = [new] * size[0] * size[1]\n",
    "    for y in range(size[1]):\n",
    "        left = y * size[0]\n",
    "        right = (y + 1) * size[0] - 1\n",
    "        while left < right and is_old(pics[left], old):\n",
    "            left += 1\n",
    "        while left < right and is_old(pics[right], old):\n",
    "            right -= 1\n",
    "        for i in range(left, right):\n",
    "            new_img[i] = pics[i]\n",
    "\n",
    "    img.putdata(new_img)\n",
    "\n",
    "    if new_fname is None:\n",
    "        new_fname = '.'.join(fname.split('.')[:-1]) + '_b2a.png'\n",
    "\n",
    "    img.save(new_fname, 'PNG')"
   ]
  },
  {
   "cell_type": "raw",
   "id": "7a2351c0-716c-40da-acc8-6b312d77d693",
   "metadata": {},
   "source": [
    "background2black() - функция для приведение цвета почти однородного фона к чёрному цвету\n",
    "\n",
    "Параметры:\n",
    "fname - string - путь к файлу изображения\n",
    "old - 4-dim int tuple - старый цвет фона, по умолчанию берётся из крайнего правого верхнего пикселя\n",
    "delete - bool - удаление исходнго файла, по умолчанию нет\n",
    "new_fname - string - новое имя файла, по умолчанию исходное, оканчивающиеся на \"_b2a\"\n",
    "\n",
    "Создаёт изменённое изображение в формате \".PNG\" с новым названием"
   ]
  },
  {
   "cell_type": "raw",
   "id": "89f07036-7570-4b00-948f-82941c55445f",
   "metadata": {},
   "source": [
    "https://stackoverflow.com/questions/29810128/opencv-python-set-background-colour"
   ]
  },
  {
   "cell_type": "code",
   "execution_count": 3,
   "id": "6d01ffcc-5597-4b0a-bf29-332e1e8bf7ae",
   "metadata": {},
   "outputs": [],
   "source": [
    "def background2black(fname, old=None, delete=False, new_fname=None):\n",
    "\n",
    "    if old is None:\n",
    "        img = Image.open(f'{fname}').convert(\"RGBA\")\n",
    "        old = np.array(pics[0], dtype=np.uint8)\n",
    "    \n",
    "    lower = np.where(old-7 < 0, 0, old-7)\n",
    "    upper = np.where(old+7 > 255, 255, old+7)\n",
    "\n",
    "    image = cv2.imread(fname)\n",
    "    if delete:\n",
    "        os.remove(fname)\n",
    "\n",
    "    mask = cv2.inRange(image, lower, upper)\n",
    "    mask = cv2.bitwise_not(mask)\n",
    "    res = cv2.bitwise_and(image, image, mask=mask)\n",
    "\n",
    "    if new_fname is None:\n",
    "        new_fname = '.'.join(fname.split('.')[:-1]) + '_b2b.png'\n",
    "\n",
    "    cv2.imwrite(new_fname, res)"
   ]
  },
  {
   "cell_type": "raw",
   "id": "78ae7a98-923c-4d8a-afd8-9107851a9712",
   "metadata": {},
   "source": [
    "crop_box() - функция для для выделения прямоугольника в котором, находится картинка на однородном фоне\n",
    "\n",
    "Параметры:\n",
    "fname - string - путь к файлу изображения\n",
    "wid - int - ширина отступа по бокам от картинки, по умолчанию 8 \n",
    "back - 4-dim int tuple - цвет фона, по умолчанию берётся из крайнего правого верхнего пикселя\n",
    "delete - bool - удаление исходного файла, по умолчанию нет\n",
    "new_fname - string - новое имя файла, по умолчанию исходное, оканчивающиеся на \"_cb\"\n",
    "\n",
    "Создаёт изменённое изображение в формате \".PNG\" с новым названием"
   ]
  },
  {
   "cell_type": "code",
   "execution_count": 4,
   "id": "8defc649-1b37-421f-a6cd-790a826da73b",
   "metadata": {},
   "outputs": [],
   "source": [
    "def crop_box(fname, wid=8, back=None, delete=False, new_fname=None):\n",
    "    \n",
    "    img = Image.open(f'{fname}')#.convert(\"RGBA\")\n",
    "    if delete:\n",
    "        os.remove(fname)\n",
    "    \n",
    "    size = img.size\n",
    "    pics = list(img.getdata())\n",
    "\n",
    "    if back is None:\n",
    "        back = pics[0]    \n",
    "    \n",
    "    min_left = size[0]\n",
    "    min_right = size[0]\n",
    "\n",
    "    for y in range(size[1]):\n",
    "        left = 0\n",
    "        right = 0\n",
    "        while y*size[0] + left < (y+1)*size[0]-1 - right and pics[y*size[0] + left] == back:\n",
    "            left += 1\n",
    "        while y*size[0] + left < (y+1)*size[0]-1 - right and pics[(y+1)*size[0]-1 - right] == back:\n",
    "            right += 1\n",
    "        if left and right:\n",
    "            min_left = min(min_left, left)\n",
    "            min_right = min(min_right, right)\n",
    "\n",
    "    img = img.crop((min_left-wid, 0, size[0]-min_right+wid, size[1]))\n",
    "    \n",
    "    if new_fname is None:\n",
    "        new_fname = '.'.join(fname.split('.')[:-1]) + '_cb.png'\n",
    "\n",
    "    img.save(new_fname, 'PNG')"
   ]
  },
  {
   "cell_type": "raw",
   "id": "ebe36507-621f-4ba9-8d09-650752c5ad03",
   "metadata": {},
   "source": [
    "delete_border() - функция для для удаления границ картинки на однородном фоне\n",
    "\n",
    "Параметры:\n",
    "fname - string - путь к файлу изображения\n",
    "wid - int - ширина обрезки контура, по умолчанию 2\n",
    "back - 4-dim int tuple - цвет фона, по умолчанию берётся из крайнего правого верхнего пикселя\n",
    "delete - bool - удаление исходного файла, по умолчанию нет\n",
    "new_fname - string - новое имя файла, по умолчанию исходное, оканчивающиеся на \"_db\"\n",
    "\n",
    "Создаёт изменённое изображение в формате \".PNG\" с новым названием"
   ]
  },
  {
   "cell_type": "code",
   "execution_count": 5,
   "id": "4cb70e0c-a407-482e-bc89-2deb6e044116",
   "metadata": {},
   "outputs": [],
   "source": [
    "def delete_border(fname, wid=2, back=None, delete=False, new_fname=None):\n",
    "    \n",
    "    img = Image.open(f'{fname}')#.convert(\"RGBA\")\n",
    "    if delete:\n",
    "        os.remove(fname)\n",
    "  \n",
    "    size = img.size\n",
    "    pics = list(img.getdata())\n",
    "    \n",
    "    if back is None:\n",
    "        back = pics[0]\n",
    "    \n",
    "    new_img = [back] * size[0] * size[1]\n",
    "\n",
    "    for y in range(size[1]):\n",
    "        left = y * size[0]\n",
    "        right = (y + 1) * size[0] - 1\n",
    "        while left+wid < right-wid and pics[left] == back:\n",
    "            left += 1\n",
    "        while left+wid < right-wid and pics[right] == back:\n",
    "            right -= 1\n",
    "        for i in range(left+wid, right-wid):\n",
    "            new_img[i] = pics[i]\n",
    "        \n",
    "    for x in range(size[0]):\n",
    "        up = x\n",
    "        down = size[0] * (size[1]-1) + x\n",
    "        while up + wid*size[0] < down - wid*size[0] and pics[up] == back:\n",
    "            up += size[0]\n",
    "        while up + wid*size[0] < down - wid*size[0] and pics[down] == back:\n",
    "            down -= size[0]\n",
    "        for i in range(wid):\n",
    "            new_img[up + i*size[0]] = back\n",
    "            new_img[down - i*size[0]] = back\n",
    "\n",
    "    img.putdata(new_img)\n",
    "\n",
    "    if new_fname is None:\n",
    "        new_fname = '.'.join(fname.split('.')[:-1]) + '_db.png'\n",
    "\n",
    "    img.save(new_fname, 'PNG')"
   ]
  },
  {
   "cell_type": "raw",
   "id": "1d655494-6e4b-49d0-8557-161e1a33d3a4",
   "metadata": {},
   "source": [
    "crop_label_old() - функция для для выделения прямоугольника в котором, находится этикетка бутылки\n",
    "\n",
    "Параметры:\n",
    "fname - string - путь к файлу изображения\n",
    "label - 4-dim int/float tuple - область для этикетки - ширина отступа по краям от картинки в долях или пикселях, по умолчанию -1/3 сверху, crop_box() по бокам\n",
    "delete - bool - удаление исходного файла, по умолчанию нет\n",
    "new_fname - string - новое имя файла, по умолчанию исходное, оканчивающиеся на \"_cb\"\n",
    "\n",
    "Создаёт изменённое изображение в формате \".PNG\" с новым названием"
   ]
  },
  {
   "cell_type": "code",
   "execution_count": 6,
   "id": "7e979e54-7f25-4003-b5ec-e6ca437c3ee3",
   "metadata": {},
   "outputs": [],
   "source": [
    "def crop_label_old(fname, label=None, delete=False, new_fname=None):\n",
    "    \n",
    "    if label is None:\n",
    "        crop_box(fname, delete=True, new_fname=fname)\n",
    "        label = (0, 1/3, 0, 0)\n",
    "\n",
    "    img = Image.open(f'{fname}')#.convert(\"RGBA\")\n",
    "    if delete:\n",
    "        os.remove(fname)\n",
    "        \n",
    "    size = img.size\n",
    "    new = [0] * 4\n",
    "    side = 0\n",
    "    for l in label:\n",
    "        new[side] = (0 if side < 2 else size[side % 2]) +\\\n",
    "                    (1 if side < 2 else -1) * l * (size[side % 2] if l < 1 else 1)\n",
    "        side += 1\n",
    "    new = tuple(new)\n",
    "\n",
    "    img = img.crop(new)\n",
    "    \n",
    "    if new_fname is None:\n",
    "        new_fname = '.'.join(fname.split('.')[:-1]) + '_clo.png' #jpg'\n",
    "\n",
    "    img.save(new_fname, 'PNG')"
   ]
  },
  {
   "cell_type": "raw",
   "id": "2efa37d6-c898-42cf-8a38-cc35762c7628",
   "metadata": {},
   "source": [
    "crop_label_new() - функция для для выделения прямоугольника в котором, находится этикетка бутылки\n",
    "\n",
    "Параметры:\n",
    "fname - string - путь к файлу изображения\n",
    "crop_unsuccess - bool - применение crop_label_old к изображению в случае неудачного выделения прямоугольника с помощью алгоритма (если False, то изображение без изменений), по умолчанию да\n",
    "delete - bool - удаление исходного файла, по умолчанию нет\n",
    "new_fname - string - новое имя файла, по умолчанию исходное, оканчивающиеся на \"_cb\"\n",
    "\n",
    "Создаёт изменённое изображение в формате \".PNG\" с новым названием"
   ]
  },
  {
   "cell_type": "code",
   "execution_count": 7,
   "id": "7b752c49-aaca-408a-a9e0-413bc592bc87",
   "metadata": {
    "tags": []
   },
   "outputs": [],
   "source": [
    "def delta(x, n=10):\n",
    "    return abs(x[n::n] - x[:-n:n])"
   ]
  },
  {
   "cell_type": "code",
   "execution_count": 8,
   "id": "6de5a1da-1286-4e4b-8502-594f45219904",
   "metadata": {},
   "outputs": [],
   "source": [
    "def moving_average(a, n=3) :\n",
    "    ret = np.cumsum(a, dtype=float)\n",
    "    ret[n:] = ret[n:] - ret[:-n]\n",
    "    return ret[n - 1:] / n"
   ]
  },
  {
   "cell_type": "code",
   "execution_count": 9,
   "id": "2400b8d7-fcb9-4346-8231-b2c93a536507",
   "metadata": {
    "tags": []
   },
   "outputs": [],
   "source": [
    "def crop_label_new(fname, crop_unsuccess=True, delete=False, new_fname=None):\n",
    "    \n",
    "    img_ = cv2.imread(fname)\n",
    "    if delete:\n",
    "        os.remove(fname)\n",
    "    \n",
    "    img = cv2.cvtColor(img_, cv2.COLOR_BGR2GRAY)\n",
    "    \n",
    "    x = np.sum(img, axis=1).astype(float)\n",
    "\n",
    "    d = 20\n",
    "    x = delta(x, d)\n",
    "    \n",
    "    q = 0.75\n",
    "    height = int(np.quantile(x, q))#max()*0.15)\n",
    "    distance = int(img.shape[0]*0.2/d)\n",
    "    peaks, _ = find_peaks(x, height=height, distance=distance)\n",
    "    peaks *= d\n",
    "    \n",
    "    if new_fname is None:\n",
    "        new_fname = '.'.join(fname.split('.')[:-1]) + '_cln.jpg'\n",
    "\n",
    "    if peaks.shape[0] >= 2:\n",
    "        img_ = img_[peaks[0]:peaks[-1], :]\n",
    "        cv2.imwrite(new_fname, img_)\n",
    "        crop_box(new_fname, delete=True, new_fname=new_fname)\n",
    "        return True\n",
    "\n",
    "    if crop_unsuccess:\n",
    "        crop_label_old(fname, delete=delete, new_fname=new_fname)\n",
    "    return False"
   ]
  },
  {
   "cell_type": "raw",
   "id": "298312e4-6c56-45d6-957d-17097849684b",
   "metadata": {},
   "source": [
    "full_change() - функция для для приведения произвольной картинки (формат JPG, JPEG, PNG) бутылки вина к картинке с этикеткой формата PNG.\n",
    "\n",
    "Параметры:\n",
    "fname - string - путь к файлу изображения\n",
    "label - string [None, 'old', 'new', 'mix'] - вид нахождения этикетки (далее результаты для каждого)\n",
    "delete - bool - удаление исходного файла, по умолчанию нет\n",
    "new_fname - string - новое имя файла, по умолчанию исходное, оканчивающиеся на \"_fc\"\n",
    "\n",
    "Создаёт изменённое изображение в формате \".PNG\" с новым названием\n",
    "Возвращает True, если отработала успешно, False иначе"
   ]
  },
  {
   "cell_type": "code",
   "execution_count": 41,
   "id": "b4ca6cff-ba61-4740-b9c0-051a59ffd1f6",
   "metadata": {},
   "outputs": [],
   "source": [
    "def full_change(fname, label='mix', delete=False, new_fname=None):\n",
    "\n",
    "    try:\n",
    "        if new_fname is None:\n",
    "            new_fname = '.'.join(fname.split('.')[:-1])+'_fc.png'\n",
    "\n",
    "        background2any(fname, new='old', delete=delete, new_fname=new_fname)\n",
    "\n",
    "        delete_border(new_fname, delete=True, new_fname=new_fname)\n",
    "\n",
    "        if label is None:\n",
    "            crop_box(new_fname, delete=True, new_fname=new_fname)\n",
    "        elif label == 'old':\n",
    "            crop_label_old(new_fname, delete=True, new_fname=new_fname)\n",
    "        elif label == 'new':\n",
    "            crop_label_new(new_fname, crop_unsuccess=True, delete=True, new_fname=new_fname)\n",
    "        elif label == 'mix':\n",
    "            crop_label_old(new_fname, delete=True, new_fname=new_fname)\n",
    "            crop_label_new(new_fname, crop_unsuccess=False, delete=True, new_fname=new_fname)\n",
    "        return True\n",
    "    except:\n",
    "        return False"
   ]
  },
  {
   "cell_type": "raw",
   "id": "78862cb9-44a6-4d21-b210-1173921f4138",
   "metadata": {},
   "source": [
    "Результаты мэтчинга с разными значениями аргумента \"label\"\n",
    "\n",
    "None\n",
    "Bad picture download 7\n",
    "Bad picture processing 0\n",
    "Bad API vintage_id 18\n",
    "No vintage_id 157\n",
    "Bad API wine_id 0\n",
    "Different wine_id 6\n",
    "Matching 12\n",
    "\n",
    "old\n",
    "Bad picture download 7\n",
    "Bad picture processing 0\n",
    "Bad API vintage_id 11\n",
    "No vintage_id 113\n",
    "Bad API wine_id 0\n",
    "Different wine_id 12\n",
    "Matching 57\n",
    "\n",
    "new\n",
    "Bad picture download 7\n",
    "Bad picture processing 6\n",
    "Bad API vintage_id 7\n",
    "No vintage_id 120\n",
    "Bad API wine_id 0\n",
    "Different wine_id 10\n",
    "Matching 50\n",
    "\n",
    "mix\n",
    "Bad picture download 7\n",
    "Bad picture processing 9\n",
    "Bad API vintage_id 4\n",
    "No vintage_id 60\n",
    "Bad API wine_id 0\n",
    "Different wine_id 21\n",
    "Matching 99"
   ]
  },
  {
   "cell_type": "raw",
   "id": "55778023-674e-44e7-9633-76379766b768",
   "metadata": {},
   "source": [
    "convert2any() - функция для приведения произвольной картинки формата JPG, JPEG или PNG к формату JPG или PNG.\n",
    "\n",
    "Параметры:\n",
    "fname - string - путь к файлу изображения\n",
    "format_new - string ['PNG' / 'JPG'] - новый формат изображения\n",
    "delete - bool - удаление исходного файла, по умолчанию нет\n",
    "new_fname - string - новое имя файла, по умолчанию исходное, оканчивающиеся на \"_fc\"\n",
    "\n",
    "Создаёт изменённое изображение в нужном формате с новым названием\n",
    "Возвращает True, если отработала успешно, False иначе"
   ]
  },
  {
   "cell_type": "raw",
   "id": "6b7b07b7-c8bc-4598-9fe2-2be63cadf17a",
   "metadata": {},
   "source": [
    "https://stackoverflow.com/questions/9166400/convert-rgba-png-to-rgb-with-pil"
   ]
  },
  {
   "cell_type": "code",
   "execution_count": 11,
   "id": "f9283b7f-4fc6-471b-ae51-ccc5a7202e56",
   "metadata": {},
   "outputs": [],
   "source": [
    "def convert2any(fname, format_new, delete=False, new_fname=None):\n",
    "\n",
    "    try:\n",
    "        img_ = Image.open(fname)\n",
    "        if delete:\n",
    "            os.remove(fname)\n",
    "\n",
    "        if new_fname is None:\n",
    "            new_fname = '.'.join(fname.split('.')[:-1])+'_c2a'\n",
    "            if format_new == 'JPG':\n",
    "                new_fname += '.jpg'\n",
    "            elif format_new == 'PNG':\n",
    "                new_fname += '.png'\n",
    "\n",
    "        if format_new == 'JPG':\n",
    "            #img = Image.new('RGB', img_.size, (255, 255, 255))\n",
    "            #alpha_composite = Image.alpha_composite(img, img_)\n",
    "            #alpha_composite.save(new_fname, 'JPEG', quality=80)\n",
    "            img_.convert('RGB').save(new_fname, 'JPEG')\n",
    "        elif format_new == 'PNG':\n",
    "            img_.convert('RGBA').save(new_fname, 'PNG')\n",
    "        return True\n",
    "    except:\n",
    "        return False"
   ]
  },
  {
   "cell_type": "raw",
   "id": "e05f951f-18be-4364-a393-3e70c04a522d",
   "metadata": {},
   "source": [
    "deleteany() - функция для удаления изображений\n",
    "\n",
    "Параметры:\n",
    "format_delete - string - формат удаляемых изображений\n",
    "path - string - путь к папке, в которой надо удалить изображения, по умолчанию текущая папка\n",
    "exceptions - list - название файлов, которые не надо удалять\n",
    "\n",
    "Удаляет изображение"
   ]
  },
  {
   "cell_type": "code",
   "execution_count": 12,
   "id": "8c09e7f5-7177-4c90-94b3-8e2cecc110e7",
   "metadata": {},
   "outputs": [],
   "source": [
    "def deleteany(format_delete, path='.', exceptions=[]):\n",
    "    for img_path in [p for p in os.listdir(path) if p.endswith('.'+format_delete)]:\n",
    "        if not img_path in exceptions:\n",
    "            os.remove(path+'/'+img_path)"
   ]
  },
  {
   "cell_type": "markdown",
   "id": "77bf2a85-5f5c-4660-892f-8378b1a6d98c",
   "metadata": {
    "jp-MarkdownHeadingCollapsed": true,
    "tags": []
   },
   "source": [
    "## Загрузка картинок"
   ]
  },
  {
   "cell_type": "raw",
   "id": "af40ac0d-3f42-4f9b-9ec2-45c09326cbdf",
   "metadata": {},
   "source": [
    "download_picture_i(), i = 1, 2, 3, 4 - четыре вида функций для скачивания фотографий\n",
    "\n",
    "Параметры:\n",
    "url - string - ссылка на изображение\n",
    "fname - string - название для скаченного изображения\n",
    "\n",
    "Скачивает изображение"
   ]
  },
  {
   "cell_type": "raw",
   "id": "c37e0c92-5929-4622-9e11-118e8ffd16ac",
   "metadata": {},
   "source": [
    "https://habr.com/ru/post/210238/"
   ]
  },
  {
   "cell_type": "code",
   "execution_count": 13,
   "id": "2118edc5-89e2-45f5-81fd-ebe9145b0aa4",
   "metadata": {},
   "outputs": [],
   "source": [
    "def download_picture_1(url, fname):\n",
    "    response = requests.get(url, stream=True)\n",
    "    out = open(fname, 'wb')\n",
    "    shutil.copyfileobj(response.raw, out)\n",
    "    del response"
   ]
  },
  {
   "cell_type": "code",
   "execution_count": 14,
   "id": "06ebefd6-6038-45d6-b3a7-f52908a87494",
   "metadata": {},
   "outputs": [],
   "source": [
    "def download_picture_2(url, fname):\n",
    "    urllib.request.urlretrieve(url, fname)"
   ]
  },
  {
   "cell_type": "code",
   "execution_count": 15,
   "id": "71db5d31-bdd3-4773-8eb6-d60070fd962f",
   "metadata": {},
   "outputs": [],
   "source": [
    "def download_picture_3(url, fname):\n",
    "    resource = urllib.request.urlopen(url)\n",
    "    out = open(fname, 'wb')\n",
    "    out.write(resource.read())\n",
    "    out.close()"
   ]
  },
  {
   "cell_type": "code",
   "execution_count": 16,
   "id": "0a2af15c-96f0-4565-af16-c8d2f2fbc78d",
   "metadata": {},
   "outputs": [],
   "source": [
    "def download_picture_4(url, fname):\n",
    "    h = httplib2.Http('.cache')\n",
    "    response, content = h.request(url)\n",
    "    out = open(fname, 'wb')\n",
    "    out.write(content)\n",
    "    out.close()"
   ]
  },
  {
   "cell_type": "raw",
   "id": "d2bff88c-d2ec-4da0-a48e-c405fe99c501",
   "metadata": {},
   "source": [
    "download_picture() - функция для скачивания изображения, применяет все функции выше пока не скачает файл либо не кончатся функции\n",
    "\n",
    "Параметры:\n",
    "url - string - ссылка на изображение\n",
    "fname - string - название для скаченного изображения\n",
    "\n",
    "Скачивает изображение\n",
    "Возвращает True, если отработала успешно, False иначе"
   ]
  },
  {
   "cell_type": "code",
   "execution_count": 17,
   "id": "64e5637a-e8f7-4ae5-8272-535cece2bb86",
   "metadata": {
    "tags": []
   },
   "outputs": [],
   "source": [
    "def download_picture(url, fname):\n",
    "    for f in [download_picture_1, download_picture_2, download_picture_3, download_picture_4]:\n",
    "        try:\n",
    "            f(url, fname)\n",
    "            im = Image.open(fname)\n",
    "            #im.save(fname)\n",
    "        except:\n",
    "            try:\n",
    "                os.remove(fname)\n",
    "            except:\n",
    "                continue\n",
    "        else:\n",
    "            return True\n",
    "    return False"
   ]
  },
  {
   "cell_type": "markdown",
   "id": "af02370a-975e-452a-af66-a651bd8c26ab",
   "metadata": {
    "jp-MarkdownHeadingCollapsed": true,
    "tags": []
   },
   "source": [
    "## API"
   ]
  },
  {
   "cell_type": "raw",
   "id": "da6e8426-46ff-40bf-be4a-012438607ae5",
   "metadata": {},
   "source": [
    "Актуальный ключ для мэтчинга"
   ]
  },
  {
   "cell_type": "code",
   "execution_count": 32,
   "id": "773eda98-6500-4b98-ab53-160e715569ec",
   "metadata": {},
   "outputs": [],
   "source": [
    "auth_key = \"Bearer wyZ546S2fLyGlcBL61r2LAEiRhTuSXAHtHORFRuD\""
   ]
  },
  {
   "cell_type": "raw",
   "id": "86cfe106-edbb-4aa0-b089-b645e5c2a776",
   "metadata": {},
   "source": [
    "get_vintage_id() - функция для получения vintage_id для картинки с сайта vivino\n",
    "\n",
    "Параметры:\n",
    "fname - string - путь к файлу изображения\n",
    "auth_key - string - api-ключ для запроса к vivino\n",
    "\n",
    "Возвращает vintage_id, если отработала успешно, False иначе"
   ]
  },
  {
   "cell_type": "code",
   "execution_count": 19,
   "id": "3db4954b-229f-4f83-b4b2-55a003ada98e",
   "metadata": {},
   "outputs": [],
   "source": [
    "def get_vintage_id(fname, auth_key):\n",
    "\n",
    "    try:\n",
    "        url = f'https://api.vivino.com/scans/label?image_type=jpg&add_user_vintage=false&queue_tier_matching=false&debug_should_fail=false&label_ocr=&label_ocr_source=android_firebase-ml-vision_18.0.0&app_version=2022.22.0&api_version=9.0.0&app_platform=android&app_phone=samsung%20SM-G988N%20z3q%207.1.2&os_version=7.1.2&country_code=ru&uuid={str(uuid.uuid4())}&language=en'\n",
    "        files = {'image': open(fname, 'rb')}\n",
    "        scan_data = requests.post(url, \n",
    "                   headers={\"authorization\": auth_key}, \n",
    "                   files=files)\n",
    "        time.sleep(1)\n",
    "        url_get_vintage = f\"https://api.vivino.com/scans/label/{scan_data.json()['processing_id']}\"\n",
    "        vintage = requests.get(url_get_vintage, \n",
    "                     headers={\"authorization\": auth_key})\n",
    "        return vintage.json()['vintage_id']\n",
    "    except:\n",
    "        return False"
   ]
  },
  {
   "cell_type": "raw",
   "id": "cd56264e-2b8a-464f-9a2e-5b4278a23ab3",
   "metadata": {},
   "source": [
    "get_wine_id() - функция для получения wine_id по vintage_id с сайта vivino\n",
    "\n",
    "Параметры:\n",
    "vintage_id - vintage_id с сайта vivino (результат предыдущей функции)\n",
    "\n",
    "Возвращает wine_id, если отработала успешно, False иначе"
   ]
  },
  {
   "cell_type": "code",
   "execution_count": 20,
   "id": "0348ffdb-22fb-4aca-aaa0-0caab5437897",
   "metadata": {},
   "outputs": [],
   "source": [
    "def get_wine_id(vintage_id):\n",
    "    try:\n",
    "        wine = requests.get(f'https://api.vivino.com/vintages/{vintage_id}').json()\n",
    "        time.sleep(1)\n",
    "        return wine['wine']['id']\n",
    "    except:\n",
    "        return False"
   ]
  },
  {
   "cell_type": "markdown",
   "id": "1e2e0ce6-a5d2-45e7-acf0-7d665b208631",
   "metadata": {
    "jp-MarkdownHeadingCollapsed": true,
    "tags": []
   },
   "source": [
    "## Мэтчинг"
   ]
  },
  {
   "cell_type": "raw",
   "id": "19be27a4-69e1-4d9a-8f11-661d72e303ac",
   "metadata": {},
   "source": [
    "matching() - функция для получения wine_id с сайта vivino по изображению бутылки вина\n",
    "\n",
    "Параметры:\n",
    "url - string - ссылка на изображение\n",
    "auth_key - string - api-ключ для запроса к vivino\n",
    "fname - string - название для скаченного изображения, по умолчанию задаётся случайным образом\n",
    "\n",
    "Возвращает wine_id, если отработала успешно, ошибку текстом иначе иначе"
   ]
  },
  {
   "cell_type": "code",
   "execution_count": 42,
   "id": "4ee3f770-751b-415c-9b6b-23569a87d977",
   "metadata": {},
   "outputs": [],
   "source": [
    "def matching(url, auth_key, fname=None):\n",
    "\n",
    "    name = str(random.getrandbits(31))\n",
    "    fname_ = name+'.png'\n",
    "    if fname is None:\n",
    "        fname = name+'.jpg'\n",
    "\n",
    "    if not download_picture(url, fname_):\n",
    "        return 'Bad picture download'\n",
    "    \n",
    "    if not (full_change(fname_, label='mix', delete=True, new_fname=fname_)\n",
    "            and convert2any(fname_, format_new='JPG', delete=True, new_fname=fname)):\n",
    "        return 'Bad picture processing'\n",
    "    \n",
    "    vintage_id = get_vintage_id(fname, auth_key)\n",
    "    if vintage_id is None:\n",
    "        return 'No vintage_id'\n",
    "    elif not vintage_id:\n",
    "        return 'Bad API vintage_id'\n",
    "\n",
    "    wine_id_api = get_wine_id(vintage_id)\n",
    "    if not wine_id_api:\n",
    "        return 'Bad API wine_id'\n",
    "    return wine_id_api"
   ]
  },
  {
   "cell_type": "markdown",
   "id": "00fa95db-33e8-47fd-934f-98ee64ee6eab",
   "metadata": {
    "jp-MarkdownHeadingCollapsed": true,
    "tags": []
   },
   "source": [
    "### Тестирование"
   ]
  },
  {
   "cell_type": "raw",
   "id": "685da256-ec9b-42b0-a643-2665451f4643",
   "metadata": {},
   "source": [
    "test() - функция для получения тестирования мэтчинга в зависимости от способа обрезания картинки для получения этикетки\n",
    "\n",
    "Параметры:\n",
    "url - string - ссылка на изображение\n",
    "auth_key - string - api-ключ для запроса к vivino\n",
    "fname - string - название для скаченного изображения, по умолчанию задаётся случайным образом\n",
    "label - string [None, 'old', 'new', 'mix'] - вид нахождения этикетки (далее результаты для каждого)\n",
    "\n",
    "Возвращает wine_id, если отработала успешно, ошибку текстом иначе иначе"
   ]
  },
  {
   "cell_type": "code",
   "execution_count": 40,
   "id": "9d57cfff-9649-4620-b663-ca0bb8b94bab",
   "metadata": {},
   "outputs": [],
   "source": [
    "def test(url, auth_key, fname=None, label=None):\n",
    "\n",
    "    name = str(random.getrandbits(31))\n",
    "    fname_ = name+'.png'\n",
    "    if fname is None:\n",
    "        fname = name+'.jpg'\n",
    "        \n",
    "\n",
    "    if not download_picture(url, fname_):\n",
    "        return 'Bad picture download'\n",
    "    \n",
    "    if not (full_change(fname_, label=label, delete=True, new_fname=fname_)\n",
    "            and convert2any(fname_, format_new='JPG', delete=True, new_fname=fname)):\n",
    "        return 'Bad picture processing'\n",
    "    \n",
    "    vintage_id = get_vintage_id(fname, auth_key)\n",
    "    if vintage_id is None:\n",
    "        return 'No vintage_id'\n",
    "    elif not vintage_id:\n",
    "        return 'Bad API vintage_id'\n",
    "\n",
    "    wine_id_api = get_wine_id(vintage_id)\n",
    "    if not wine_id_api:\n",
    "        return 'Bad API wine_id'\n",
    "    return wine_id_api"
   ]
  },
  {
   "cell_type": "raw",
   "id": "4ea2e71b-1d94-496f-a498-e7179a4ad19c",
   "metadata": {},
   "source": [
    "Результаты мэтчинга с разными значениями аргумента \"label\"\n",
    "\n",
    "None\n",
    "Bad picture download 7\n",
    "Bad picture processing 0\n",
    "Bad API vintage_id 18\n",
    "No vintage_id 157\n",
    "Bad API wine_id 0\n",
    "Different wine_id 6\n",
    "Matching 12\n",
    "\n",
    "old\n",
    "Bad picture download 7\n",
    "Bad picture processing 0\n",
    "Bad API vintage_id 11\n",
    "No vintage_id 113\n",
    "Bad API wine_id 0\n",
    "Different wine_id 12\n",
    "Matching 57\n",
    "\n",
    "new\n",
    "Bad picture download 7\n",
    "Bad picture processing 6\n",
    "Bad API vintage_id 7\n",
    "No vintage_id 120\n",
    "Bad API wine_id 0\n",
    "Different wine_id 10\n",
    "Matching 50\n",
    "\n",
    "mix\n",
    "Bad picture download 7\n",
    "Bad picture processing 9\n",
    "Bad API vintage_id 4\n",
    "No vintage_id 60\n",
    "Bad API wine_id 0\n",
    "Different wine_id 21\n",
    "Matching 99"
   ]
  },
  {
   "cell_type": "markdown",
   "id": "fdf87f0b-6492-46e3-b6dc-371b60a70847",
   "metadata": {
    "jp-MarkdownHeadingCollapsed": true,
    "tags": []
   },
   "source": [
    "# Данные"
   ]
  },
  {
   "cell_type": "code",
   "execution_count": null,
   "id": "0f9eafe8-e9a4-4ff0-b051-23b447fa155e",
   "metadata": {},
   "outputs": [],
   "source": [
    "path = '' #путь к файлу с винами"
   ]
  },
  {
   "cell_type": "code",
   "execution_count": null,
   "id": "1e211cb1-7b67-43d9-813a-8ab90c067d33",
   "metadata": {},
   "outputs": [],
   "source": [
    "df = pd.read_excel(path)"
   ]
  },
  {
   "cell_type": "code",
   "execution_count": null,
   "id": "a19b3e2b-1712-4136-9ae0-48006000b812",
   "metadata": {},
   "outputs": [],
   "source": [
    "df.head()"
   ]
  },
  {
   "cell_type": "markdown",
   "id": "82bd78a8-b5b1-4bfc-aa8e-b19a45f3ebde",
   "metadata": {
    "tags": []
   },
   "source": [
    "# Процесс"
   ]
  },
  {
   "cell_type": "code",
   "execution_count": null,
   "id": "c0e47a6a-1208-40f4-a2c3-9c4e5c8115e7",
   "metadata": {},
   "outputs": [],
   "source": [
    "auth_key = \"Bearer wyZ546S2fLyGlcBL61r2LAEiRhTuSXAHtHORFRuD\""
   ]
  },
  {
   "cell_type": "code",
   "execution_count": null,
   "id": "3e0713ed-bed5-4639-87fc-c49177e8a023",
   "metadata": {},
   "outputs": [],
   "source": []
  },
  {
   "cell_type": "code",
   "execution_count": null,
   "id": "16faa8d0-cf62-4868-8f5b-a419bc62541b",
   "metadata": {},
   "outputs": [],
   "source": [
    "result = {'Bad picture download' : 0, 'Bad picture processing' : 0, 'Bad API vintage_id' : 0, 'No vintage_id' : 0, 'Bad API wine_id' : 0, 'Different wine_id' : 0, 'Matching' : 0}\n",
    "for i in tqdm(df.index):\n",
    "\n",
    "    image_merchant = #df.loc[i, 'Изображения'] #присвоить ссылку на изображение\n",
    "\n",
    "    res = matching(url=image_merchant, auth_key=auth_key)\n",
    "    if type(res) == int:\n",
    "        wine_id_api = res\n",
    "        res = 'Matching'\n",
    "    else:\n",
    "        wine_id_api = ''\n",
    "\n",
    "    # = wine_id_api #присвоить найденный wine_id\n",
    "    # = res #присвоить результат текстом\n",
    "\n",
    "    if res in result:\n",
    "        result[res] += 1\n",
    "    else:\n",
    "        result[res] = 1\n",
    "\n",
    "for k in result:\n",
    "    print(k, result[k])"
   ]
  },
  {
   "cell_type": "markdown",
   "id": "009e2679-6470-40d4-aceb-3cb2db4336e3",
   "metadata": {},
   "source": [
    "#"
   ]
  },
  {
   "cell_type": "code",
   "execution_count": null,
   "id": "fa6ec476-4cdb-45f3-9a1c-34558bb02f13",
   "metadata": {},
   "outputs": [],
   "source": []
  }
 ],
 "metadata": {
  "kernelspec": {
   "display_name": "Python 3 (ipykernel)",
   "language": "python",
   "name": "python3"
  },
  "language_info": {
   "codemirror_mode": {
    "name": "ipython",
    "version": 3
   },
   "file_extension": ".py",
   "mimetype": "text/x-python",
   "name": "python",
   "nbconvert_exporter": "python",
   "pygments_lexer": "ipython3",
   "version": "3.10.8"
  }
 },
 "nbformat": 4,
 "nbformat_minor": 5
}
