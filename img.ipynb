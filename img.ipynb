{
 "cells": [
  {
   "cell_type": "markdown",
   "id": "c5794bd8-b845-4767-9d95-ec282e1de3ba",
   "metadata": {
    "tags": []
   },
   "source": [
    "#"
   ]
  },
  {
   "cell_type": "code",
   "execution_count": 1,
   "id": "bc791cc3-e8bf-4d04-944a-b5c6e14a9b80",
   "metadata": {},
   "outputs": [],
   "source": [
    "import os\n",
    "from PIL import Image"
   ]
  },
  {
   "cell_type": "markdown",
   "id": "bc2e06cd-e565-4d7a-a057-416f6b755779",
   "metadata": {
    "tags": []
   },
   "source": [
    "# Функции"
   ]
  },
  {
   "cell_type": "raw",
   "id": "209316cd-5f5e-4631-af77-05213982307e",
   "metadata": {},
   "source": [
    "background2any() - функция для приведение цвета однородного фона к любому цвету\n",
    "\n",
    "Параметры:\n",
    "fname - string - путь к файлу изображения\n",
    "new - 4-dim int tuple - новый цвет фона, по умолчанию прозрачный\n",
    "old - 4-dim int tuple - старый цвет фона, по умолчанию берётся из крайнего правого верхнего пикселя\n",
    "delete - bool - удаление исходнго файла, по умолчанию нет\n",
    "new_fname - string - новое имя файла, по умолчанию исходное, оканчивающиеся на \"_b2a\"\n",
    "\n",
    "Создаёт изменённое изображение в формате \".PNG\" с новым названием"
   ]
  },
  {
   "cell_type": "code",
   "execution_count": 2,
   "id": "c6be353b-730a-4211-af0f-3111b538587c",
   "metadata": {},
   "outputs": [],
   "source": [
    "def background2any(fname, new=(0, 0, 0, 0), old=None, delete=False, new_fname=None):\n",
    "    \n",
    "    img = Image.open(f'{fname}').convert(\"RGBA\")\n",
    "    if delete:\n",
    "        os.remove(fname)\n",
    "\n",
    "    size = img.size\n",
    "    pics = list(img.getdata())\n",
    "    \n",
    "    if old is None:\n",
    "        old = pics[0]\n",
    "    \n",
    "    new_img = [new] * size[0] * size[1]\n",
    "    for y in range(size[1]):\n",
    "        left = y * size[0]\n",
    "        right = (y + 1) * size[0] - 1\n",
    "        while left < right and pics[left] == old:\n",
    "            left += 1\n",
    "        while left < right and pics[right] == old:\n",
    "            right -= 1\n",
    "        for i in range(left, right):\n",
    "            new_img[i] = pics[i]\n",
    "\n",
    "    img.putdata(new_img)\n",
    "\n",
    "    if new_fname is None:\n",
    "        new_fname = '.'.join(fname.split('.')[:-1]) + '_b2a.png'\n",
    "\n",
    "    img.save(new_fname, 'PNG')"
   ]
  },
  {
   "cell_type": "raw",
   "id": "fb2f1d0e-2a3a-47a4-b94b-6e3c29ac2b42",
   "metadata": {},
   "source": [
    "delete_border() - функция для для удаления границ картинки на однородном фоне\n",
    "\n",
    "Параметры:\n",
    "fname - string - путь к файлу изображения\n",
    "wid - int - ширина обрезки контура, по умолчанию 2\n",
    "back - 4-dim int tuple - цвет фона, по умолчанию берётся из крайнего правого верхнего пикселя\n",
    "delete - bool - удаление исходного файла, по умолчанию нет\n",
    "new_fname - string - новое имя файла, по умолчанию исходное, оканчивающиеся на \"_db\"\n",
    "\n",
    "Создаёт изменённое изображение в формате \".PNG\" с новым названием"
   ]
  },
  {
   "cell_type": "code",
   "execution_count": 3,
   "id": "02fba591-479b-4372-9e30-538bc5f70aa7",
   "metadata": {},
   "outputs": [],
   "source": [
    "def delete_border(fname, wid=2, back=None, delete=False, new_fname=None):\n",
    "    \n",
    "    img = Image.open(f'{fname}').convert(\"RGBA\")\n",
    "    if delete:\n",
    "        os.remove(fname)\n",
    "  \n",
    "    size = img.size\n",
    "    pics = list(img.getdata())\n",
    "    \n",
    "    if back is None:\n",
    "        back = pics[0]\n",
    "    \n",
    "    new_img = [back] * size[0] * size[1]\n",
    "\n",
    "    for y in range(size[1]):\n",
    "        left = y * size[0]\n",
    "        right = (y + 1) * size[0] - 1\n",
    "        while left+wid < right-wid and pics[left] == back:\n",
    "            left += 1\n",
    "        while left+wid < right-wid and pics[right] == back:\n",
    "            right -= 1\n",
    "        for i in range(left+wid, right-wid):\n",
    "            new_img[i] = pics[i]\n",
    "        \n",
    "    for x in range(size[0]):\n",
    "        up = x\n",
    "        down = size[0] * (size[1]-1) + x\n",
    "        while up + wid*size[0] < down-wid*size[0] and pics[up] == back:\n",
    "            up += size[0]\n",
    "        while up + wid*size[0] < down-wid*size[0] and pics[down] == back:\n",
    "            down -= size[0]\n",
    "        for i in range(wid):\n",
    "            new_img[up + i*size[0]] = back\n",
    "            new_img[down - i*size[0]] = back\n",
    "\n",
    "    img.putdata(new_img)\n",
    "\n",
    "    if new_fname is None:\n",
    "        new_fname = '.'.join(fname.split('.')[:-1]) + '_db.png'\n",
    "\n",
    "    img.save(new_fname, 'PNG')"
   ]
  },
  {
   "cell_type": "raw",
   "id": "ca038896-a3d9-4b61-9c1f-308bcf313246",
   "metadata": {},
   "source": [
    "crop_box() - функция для для выделения прямоугольника в котором, находится картинка на однородном фоне\n",
    "\n",
    "Параметры:\n",
    "fname - string - путь к файлу изображения\n",
    "wid - int - ширина отступа по краям от картинки, по умолчанию 8 \n",
    "back - 4-dim int tuple - цвет фона, по умолчанию берётся из крайнего правого верхнего пикселя\n",
    "delete - bool - удаление исходного файла, по умолчанию нет\n",
    "new_fname - string - новое имя файла, по умолчанию исходное, оканчивающиеся на \"_cb\"\n",
    "\n",
    "Создаёт изменённое изображение в формате \".PNG\" с новым названием"
   ]
  },
  {
   "cell_type": "code",
   "execution_count": 4,
   "id": "e06a856c-3080-41e7-b4ed-089ea5794e61",
   "metadata": {},
   "outputs": [],
   "source": [
    "def crop_box(fname, wid=8, back=None, delete=False, new_fname=None):\n",
    "    \n",
    "    img = Image.open(f'{fname}').convert(\"RGBA\")\n",
    "    if delete:\n",
    "        os.remove(fname)\n",
    "    \n",
    "    size = img.size\n",
    "    pics = list(img.getdata())\n",
    "\n",
    "    if back is None:\n",
    "        back = pics[0]    \n",
    "    \n",
    "    min_left = size[0]\n",
    "    min_right = size[0]\n",
    "    for y in range(size[1]):\n",
    "        left = 0\n",
    "        right = 0\n",
    "        while y*size[0] + left < (y+1)*size[0]-1 - right and pics[y*size[0] + left] == back:\n",
    "            left += 1\n",
    "        while y*size[0] + left < (y+1)*size[0]-1 - right and pics[(y+1)*size[0]-1 - right] == back:\n",
    "            right += 1\n",
    "        if left and right:\n",
    "            min_left = min(min_left, left)\n",
    "            min_right = min(min_right, right)\n",
    "\n",
    "    img = img.crop((min_left-wid, 0, size[0]+wid-min_right, size[1]))\n",
    "    \n",
    "    if new_fname is None:\n",
    "        new_fname = '.'.join(fname.split('.')[:-1]) + '_cb.png'\n",
    "\n",
    "    img.save(new_fname, 'PNG')"
   ]
  },
  {
   "cell_type": "raw",
   "id": "8319c335-c342-4d0f-9591-59b8425658a7",
   "metadata": {},
   "source": [
    "full_change() - функция для для приведения произвольной картинки (формат JPG, JPEG, PNG) бутылки вина на  однородном фоне произвольного цвета к прозрачному цвету фона и формату PNG, обрез по отступу от боковых краёв бутылки на 15 пикселей.\n",
    "\n",
    "Параметры:\n",
    "fname - string - путь к файлу изображения\n",
    "delete - bool - удаление исходного файла, по умолчанию нет\n",
    "new_fname - string - новое имя файла, по умолчанию исходное, оканчивающиеся на \"_fc\"\n",
    "\n",
    "Создаёт изменённое изображение в формате \".PNG\" с новым названием"
   ]
  },
  {
   "cell_type": "code",
   "execution_count": 5,
   "id": "f7b70342-fb72-4ca3-98ab-eb15c54be433",
   "metadata": {},
   "outputs": [],
   "source": [
    "def full_change(fname, delete=False, new_fname=None):\n",
    "    \n",
    "    background2any(fname, delete=delete)\n",
    "    \n",
    "    fname = '.'.join(fname.split('.')[:-1])\n",
    "    \n",
    "    delete_border(f'{fname}_b2a.png', delete=True)\n",
    "    \n",
    "    if new_fname is None:\n",
    "        new_fname = fname + '_fc.png'\n",
    "\n",
    "    crop_box(f'{fname}_b2a_db.png', delete=True, new_fname=new_fname)"
   ]
  },
  {
   "cell_type": "markdown",
   "id": "cfed0e51-d535-4004-ab50-53894b575885",
   "metadata": {},
   "source": [
    "# Тест функций"
   ]
  },
  {
   "cell_type": "raw",
   "id": "79bc90ef-844a-4aca-a1f9-48f420d01a0e",
   "metadata": {},
   "source": [
    "Исходный файл \"example.png\" - бутылка вина с мерзким контуром на однородном бирюзовом фоне"
   ]
  },
  {
   "cell_type": "code",
   "execution_count": 6,
   "id": "c0f85565-ad57-4216-8629-d078872dae78",
   "metadata": {},
   "outputs": [],
   "source": [
    "background2any('example.png')"
   ]
  },
  {
   "cell_type": "code",
   "execution_count": 7,
   "id": "f17ff869-5318-42bf-a505-fd1d0a0d7e2a",
   "metadata": {},
   "outputs": [],
   "source": [
    "delete_border('example.png')"
   ]
  },
  {
   "cell_type": "code",
   "execution_count": 8,
   "id": "ea215406-c893-42cc-a9b9-cda3471de5ea",
   "metadata": {},
   "outputs": [],
   "source": [
    "crop_box('example.png')"
   ]
  },
  {
   "cell_type": "code",
   "execution_count": 9,
   "id": "35cf25e8-cc17-4188-bd5f-fc7432057918",
   "metadata": {},
   "outputs": [],
   "source": [
    "full_change('example.png')"
   ]
  },
  {
   "cell_type": "code",
   "execution_count": 10,
   "id": "c8387241-61ea-4a09-8785-da5ab849e755",
   "metadata": {},
   "outputs": [],
   "source": [
    "background2any('example.png')\n",
    "delete_border('example_b2a.png', delete=True)\n",
    "crop_box('example_b2a_db.png', delete=True)"
   ]
  },
  {
   "cell_type": "raw",
   "id": "8c1cd431-b1c6-4daf-bea1-d61b748f2b22",
   "metadata": {},
   "source": [
    "Исходный файл \"example.jpg\" - бутылка вина (фон неоднородный, картинки с однородным не нашёл)"
   ]
  },
  {
   "cell_type": "code",
   "execution_count": 11,
   "id": "6752040a-b7fa-44d2-8263-4670a29e55c0",
   "metadata": {},
   "outputs": [],
   "source": [
    "background2any('example2.jpg')"
   ]
  },
  {
   "cell_type": "code",
   "execution_count": 12,
   "id": "cdc2db90-cc3f-4759-a27d-c46450c83eb9",
   "metadata": {},
   "outputs": [],
   "source": [
    "delete_border('example2.jpg')"
   ]
  },
  {
   "cell_type": "code",
   "execution_count": 13,
   "id": "259024d4-7aaa-4e89-8b87-c321e7d57ab5",
   "metadata": {},
   "outputs": [],
   "source": [
    "crop_box('example2.jpg')"
   ]
  },
  {
   "cell_type": "code",
   "execution_count": 14,
   "id": "26f1030a-eeb2-4a9f-89eb-4bacaa7993e9",
   "metadata": {},
   "outputs": [],
   "source": [
    "background2any('example2.jpg')\n",
    "delete_border('example2_b2a.png', delete=True)\n",
    "crop_box('example2_b2a_db.png', delete=True)"
   ]
  }
 ],
 "metadata": {
  "kernelspec": {
   "display_name": "Python 3 (ipykernel)",
   "language": "python",
   "name": "python3"
  },
  "language_info": {
   "codemirror_mode": {
    "name": "ipython",
    "version": 3
   },
   "file_extension": ".py",
   "mimetype": "text/x-python",
   "name": "python",
   "nbconvert_exporter": "python",
   "pygments_lexer": "ipython3",
   "version": "3.10.6"
  }
 },
 "nbformat": 4,
 "nbformat_minor": 5
}
